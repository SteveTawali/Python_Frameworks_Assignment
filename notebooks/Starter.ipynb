{
  "cells": [
    {
      "cell_type": "markdown",
      "metadata": {},
      "source": [
        "# CORD-19 Starter Notebook\n",
        "Quick exploration workspace.\n"
      ]
    },
    {
      "cell_type": "code",
      "execution_count": null,
      "metadata": {},
      "outputs": [],
      "source": [
        "import pandas as pd\n",
        "from src.data_utils import load_metadata, basic_clean\n",
        "\n",
        "CSV_PATH = 'data/metadata.csv'\n",
        "\n",
        "df = load_metadata(CSV_PATH)\n",
        "df_clean = basic_clean(df)\n",
        "df_clean.head()\n"
      ]
    }
  ],
  "metadata": {
    "language_info": {
      "name": "python"
    }
  },
  "nbformat": 4,
  "nbformat_minor": 2
}
